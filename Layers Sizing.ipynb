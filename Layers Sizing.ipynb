{
 "cells": [
  {
   "cell_type": "markdown",
   "metadata": {},
   "source": [
    "# Layer sizing"
   ]
  },
  {
   "cell_type": "markdown",
   "metadata": {},
   "source": [
    "Resources:\n",
    "* [Pytorch docs](https://pytorch.org/docs/stable/index.html)\n",
    "* [C4W1L07 One Layer of a Convolutional Net, Deeplearning.ai](https://youtu.be/jPOAS7uCODQ)\n",
    "* [PyTorch layer dimensions: what size and why?](https://towardsdatascience.com/pytorch-layer-dimensions-what-sizes-should-they-be-and-why-4265a41e01fd)"
   ]
  },
  {
   "cell_type": "markdown",
   "metadata": {},
   "source": [
    "When you use Pytorch, if you don't use [Sequential](https://pytorch.org/cppdocs/api/classtorch_1_1nn_1_1_sequential.html#class-sequential) class you have to face the annoying problem of sizing layers \"by hand\". Sometimes it can be enough to let you scream and throw your laptop away. Keep calm, we can tackle it. It takes just a little bit of patience and practice.  \n",
    "Here are few notes I took, about the specific steps to gradually go through the problem. These are not the \"perfect method\", so please if you have better to suggest do it, I'll be more than happy to be helped :); same for any typos/errors you'll find, so please let me know."
   ]
  },
  {
   "cell_type": "code",
   "execution_count": 3,
   "metadata": {},
   "outputs": [],
   "source": [
    "import torch, torch.nn"
   ]
  },
  {
   "cell_type": "markdown",
   "metadata": {},
   "source": [
    "##### Data preparation"
   ]
  },
  {
   "cell_type": "code",
   "execution_count": 11,
   "metadata": {},
   "outputs": [
    {
     "name": "stdout",
     "output_type": "stream",
     "text": [
      "Files already downloaded and verified\n"
     ]
    }
   ],
   "source": [
    "from torchvision import datasets\n",
    "from torch.utils.data import DataLoader\n",
    "from torchvision import transforms as T\n",
    "root = '../_data/data_'\n",
    "tsfm = T.Compose([\n",
    "    T.ToTensor()\n",
    "    ])\n",
    "train = datasets.CIFAR10(root, train=True, download=True, transform=tsfm)\n",
    "train_dl = DataLoader(train)\n"
   ]
  },
  {
   "cell_type": "markdown",
   "metadata": {
    "heading_collapsed": true
   },
   "source": [
    "### Tensor ranks convention"
   ]
  },
  {
   "cell_type": "markdown",
   "metadata": {
    "hidden": true
   },
   "source": [
    "Pytorch makes some assumptions/conventions about tensor shapes in functions calls.  \n",
    "Talking about tensor *ranks*, with respect to their position from left to right, in *Tensor.shape*, the single rank will be expected to be:  \n",
    "1. batch size, N\n",
    "2. number of features  \n",
    "    2.1 Channels, C  \n",
    "    2.2 Height, H  \n",
    "    2.3 Width, W  \n",
    "    \n",
    "Follow some examples"
   ]
  },
  {
   "cell_type": "code",
   "execution_count": 13,
   "metadata": {
    "hidden": true
   },
   "outputs": [
    {
     "name": "stdout",
     "output_type": "stream",
     "text": [
      "torch.Size([32])\n",
      "torch.Size([12, 256])\n",
      "torch.Size([10, 1, 2048])\n",
      "torch.Size([16, 3, 28, 28])\n",
      "torch.Size([32, 1, 5, 15, 15])\n"
     ]
    }
   ],
   "source": [
    "\"\"\"Example tensor size outputs, how PyTorch reads them, and where you encounter them in the wild. \n",
    "Note: the values below are only examples. Focus on the rank of the tensor (how many dimensions it has).\"\"\"\n",
    "print(torch.Size([32]))\n",
    "    # 1d: [batch_size] \n",
    "    # use for target labels or predictions.\n",
    "print(torch.Size([12, 256]))\n",
    "    # 2d: [batch_size, num_features (aka: C * H * W)]\n",
    "    # use for as nn.Linear() input.\n",
    "print(torch.Size([10, 1, 2048]))\n",
    "    # 3d: [batch_size, channels, num_features (aka: H * W)]\n",
    "    # when used as nn.Conv1d() input.\n",
    "    # (but [seq_len, batch_size, num_features]\n",
    "    # if feeding an RNN).\n",
    "print(torch.Size([16, 3, 28, 28]))\n",
    "    # 4d: [batch_size, channels, height, width]\n",
    "    # use for as nn.Conv2d() input.\n",
    "print(torch.Size([32, 1, 5, 15, 15]))\n",
    "    # 5D: [batch_size, channels, depth, height, width]\n",
    "    # use for as nn.Conv3d() input."
   ]
  },
  {
   "cell_type": "markdown",
   "metadata": {
    "hidden": true
   },
   "source": [
    "Here an example about how know how many elements contains a \"fully shaped\" tensor"
   ]
  },
  {
   "cell_type": "code",
   "execution_count": 124,
   "metadata": {
    "hidden": true
   },
   "outputs": [
    {
     "name": "stdout",
     "output_type": "stream",
     "text": [
      "shape: torch.Size([32, 1, 224, 224]); contains 1605632 elements\n"
     ]
    }
   ],
   "source": [
    "x = torch.rand((32, 1, 224, 224))\n",
    "\n",
    "#                  4 ranks ---> 1 rank\n",
    "print(f\"shape: {x.shape}; contains {x.numel()} elements\")"
   ]
  },
  {
   "cell_type": "markdown",
   "metadata": {
    "heading_collapsed": true,
    "hidden": true
   },
   "source": [
    "##### <div id='helpers'>Helpers</div>"
   ]
  },
  {
   "cell_type": "markdown",
   "metadata": {
    "hidden": true
   },
   "source": [
    "Here I define some helpers functions, in order to simplify later operations. You will recognize some formulas, they comes from Pytorch docs and are easily proved."
   ]
  },
  {
   "cell_type": "code",
   "execution_count": 13,
   "metadata": {
    "hidden": true
   },
   "outputs": [],
   "source": [
    "import numpy as np\n",
    "#### Parameters calculation ####\n",
    "conv_size  = lambda n, K, P, S: int(np.ceil((n -K + 2*P)/S +1))\n",
    "conv_h_w   = lambda x, K,P,S: (conv_size(x.shape[2],K,P,S), conv_size(x.shape[3],K,P,S)) \n",
    "conv_K     = lambda n_in, n_out, P, S: int(np.ceil(( n_in +S*(1-n_out) + 2*P )))\n",
    "conv_P     = lambda n_in, n_out, K, S: int(np.ceil((-n_in -S*(1-n_out) + K )/2))\n",
    "conv_S     = lambda n_in, n_out, K, P: int(np.ceil(( n_in - K + 2*P)/(n_out-1)))\n",
    "out_Conv2d = lambda x, C, N_out, K, P, S: list((x.shape[0], N_out, conv_h_w(x,K,P,S)[0], conv_h_w(x,K,P,S)[1]))\n",
    "out_MaxPool2d = lambda x, C, K, P, S: list((x.shape[0], C, conv_h_w(x,K,P,S)[0], conv_h_w(x,K,P,S)[1]))\n",
    "\n",
    "#out_Conv2d(x, C, N_out, K,P,S)"
   ]
  },
  {
   "cell_type": "markdown",
   "metadata": {},
   "source": [
    "### Layers"
   ]
  },
  {
   "cell_type": "markdown",
   "metadata": {},
   "source": [
    "Before to start sizing the network we have to know what we're dealing with in terms of variable and constrains, since it is all about managing a system.  It is worth to take a look to the most typical tranforming layers we'll encounter in our DL practice, and to see how they behave as code."
   ]
  },
  {
   "cell_type": "markdown",
   "metadata": {
    "heading_collapsed": true
   },
   "source": [
    "#### Linear\n",
    "[```torch.nn.Linear(in_features, out_features, bias=True)```](https://pytorch.org/docs/master/generated/torch.nn.Linear.html#linear)"
   ]
  },
  {
   "cell_type": "markdown",
   "metadata": {
    "hidden": true
   },
   "source": [
    "Linear always takes the **last dimension** of a Tensor as input features."
   ]
  },
  {
   "cell_type": "code",
   "execution_count": 69,
   "metadata": {
    "hidden": true
   },
   "outputs": [],
   "source": [
    "torch.nn.Linear?"
   ]
  },
  {
   "cell_type": "code",
   "execution_count": 91,
   "metadata": {
    "hidden": true
   },
   "outputs": [
    {
     "name": "stdout",
     "output_type": "stream",
     "text": [
      "torch.Size([128, 20])\n",
      "n_in,n_out: (20, 60)\n"
     ]
    },
    {
     "data": {
      "text/plain": [
       "torch.Size([128, 60])"
      ]
     },
     "execution_count": 91,
     "metadata": {},
     "output_type": "execute_result"
    }
   ],
   "source": [
    "x = torch.rand((128, 20));print(x.shape) ## 20 will be taken as input\n",
    "N, n_in = x.shape\n",
    "n_out = 60 # <- [C*H*W], play with this\n",
    "print(f\"n_in,n_out: {n_in, n_out}\")\n",
    "torch.nn.Linear(n_in, n_out)(x).shape"
   ]
  },
  {
   "cell_type": "code",
   "execution_count": 92,
   "metadata": {
    "hidden": true
   },
   "outputs": [
    {
     "name": "stdout",
     "output_type": "stream",
     "text": [
      "torch.Size([128, 3, 20])\n",
      "n_in,n_out: (20, 64)\n"
     ]
    },
    {
     "data": {
      "text/plain": [
       "torch.Size([128, 3, 64])"
      ]
     },
     "execution_count": 92,
     "metadata": {},
     "output_type": "execute_result"
    }
   ],
   "source": [
    "x = torch.rand((128, 3, 20));print(x.shape)\n",
    "N, C, n_in = x.shape\n",
    "n_out = 64 # <- [H*W], play with this\n",
    "print(f\"n_in,n_out: {n_in, n_out}\")\n",
    "torch.nn.Linear(n_in, n_out)(x).shape"
   ]
  },
  {
   "cell_type": "code",
   "execution_count": 110,
   "metadata": {
    "hidden": true
   },
   "outputs": [
    {
     "name": "stdout",
     "output_type": "stream",
     "text": [
      "torch.Size([32, 3, 224, 224])\n",
      "n_in,n_out: (224, 8)\n"
     ]
    },
    {
     "data": {
      "text/plain": [
       "torch.Size([32, 3, 224, 8])"
      ]
     },
     "execution_count": 110,
     "metadata": {},
     "output_type": "execute_result"
    }
   ],
   "source": [
    "x = torch.rand((32, 3, 224, 224));print(x.shape)\n",
    "N, C, H, W = x.shape\n",
    "n_in  = W # <- only choice\n",
    "n_out = 8 # <- arbitrary\n",
    "print(f\"n_in,n_out: {n_in, n_out}\")\n",
    "torch.nn.Linear(n_in, n_out)(x).shape"
   ]
  },
  {
   "cell_type": "markdown",
   "metadata": {
    "hidden": true
   },
   "source": [
    "Now, we saw the Linear layer takes the last input size as features and \"translate\" it to a output size of features, what if we want to process **all** the units of our multirank tensor by it? This is, actually, the most common situation we'll run during our DL routines.  \n",
    "In order to do so, we have to reshape our tensor into a linear shape, how? view is a perfect way."
   ]
  },
  {
   "cell_type": "code",
   "execution_count": 98,
   "metadata": {
    "hidden": true
   },
   "outputs": [],
   "source": [
    "torch.Tensor.view?"
   ]
  },
  {
   "cell_type": "markdown",
   "metadata": {
    "hidden": true
   },
   "source": [
    "-1 acts as a placeholder in order to ask to Pytorch to replace it with a product result from all the missing dimensions.\n",
    "CAVEAT: it doesn't mean the view performs a actual \"product\", it only reshapes the tensor from one shape of specific ranks sizes to another shape with a rank (the -1 one) having the **size** equal to the **product of the sizes** of the missing ranks in the function call."
   ]
  },
  {
   "cell_type": "code",
   "execution_count": 104,
   "metadata": {
    "hidden": true
   },
   "outputs": [
    {
     "name": "stdout",
     "output_type": "stream",
     "text": [
      "torch.Size([32, 3, 224, 224])\n",
      "torch.Size([4816896])\n",
      "torch.Size([21504, 224])\n",
      "torch.Size([96, 224, 224])\n",
      "torch.Size([32, 3, 224, 224])\n"
     ]
    }
   ],
   "source": [
    "print(x.shape)                  # 4 ranks\n",
    "print(x.view(-1).shape)         # 1 rank: prod(rank0,rank1,rank2, rank3)\n",
    "print(x.view(-1, 224).shape)    # 2 ranks: prod(rank0,rank1,rank2), rank3\n",
    "print(x.view(-1, 224, 224).shape) # 3 ranks: prod(rank0,rank1), rank2, rank3\n",
    "print(x.view(-1, 3, 224, 224).shape) # 4 ranks: prod(rank0), rank1, rank2, rank3"
   ]
  },
  {
   "cell_type": "markdown",
   "metadata": {
    "hidden": true
   },
   "source": [
    "Does it reminds about [tensor ranks convention](#Tensor-ranks-convention) seen before?"
   ]
  },
  {
   "cell_type": "markdown",
   "metadata": {
    "hidden": true
   },
   "source": [
    "Now let's see how to take advantage of this in a typical Linear step"
   ]
  },
  {
   "cell_type": "code",
   "execution_count": 107,
   "metadata": {
    "hidden": true
   },
   "outputs": [
    {
     "name": "stdout",
     "output_type": "stream",
     "text": [
      "torch.Size([32, 3, 224, 224])\n",
      "n_in,n_out: (150528, 8)\n"
     ]
    },
    {
     "data": {
      "text/plain": [
       "torch.Size([32, 8])"
      ]
     },
     "execution_count": 107,
     "metadata": {},
     "output_type": "execute_result"
    }
   ],
   "source": [
    "x = torch.rand((32, 3, 224, 224));print(x.shape)\n",
    "N, C, H, W = x.shape\n",
    "x2 = x.view(-1, C*H*W) # <-- here the trick!\n",
    "n_in = x2.shape[1]\n",
    "n_out = 8\n",
    "print(f\"n_in,n_out: {n_in, n_out}\")\n",
    "torch.nn.Linear(n_in, n_out)(x2).shape"
   ]
  },
  {
   "cell_type": "markdown",
   "metadata": {
    "heading_collapsed": true
   },
   "source": [
    "#### Conv2d\n",
    "[```torch.nn.Conv2d(in_channels, out_channels, kernel_size, stride=1, padding=0, dilation=1, groups=1, bias=True, padding_mode='zeros')```](https://pytorch.org/docs/master/generated/torch.nn.Conv2d.html#conv2d)"
   ]
  },
  {
   "cell_type": "markdown",
   "metadata": {
    "hidden": true
   },
   "source": [
    "Conv2d signature is very clear. About the output a simple formula has to be taken into account in order to compute a single free variable.  Below some examples about expected weight, $W_{out}$ and $H_{out}$."
   ]
  },
  {
   "cell_type": "code",
   "execution_count": 4,
   "metadata": {
    "hidden": true
   },
   "outputs": [
    {
     "name": "stdout",
     "output_type": "stream",
     "text": [
      "torch.Size([32, 3, 224, 224])\n",
      "expected w: 224.0\n",
      "expected h: 224.0\n"
     ]
    },
    {
     "data": {
      "text/plain": [
       "torch.Size([32, 64, 224, 224])"
      ]
     },
     "execution_count": 4,
     "metadata": {},
     "output_type": "execute_result"
    }
   ],
   "source": [
    "x = torch.rand((32, 3, 224, 224));print(x.shape)\n",
    "N, C, H, W = x.shape\n",
    "K = 3 # kernel_size\n",
    "C_out= 64\n",
    "P = 1\n",
    "S = 1\n",
    "print(f\"expected w: {(W -K  + 2*P)/S +1}\")\n",
    "print(f\"expected h: {(H -K  + 2*P)/S +1}\")\n",
    "torch.nn.Conv2d(C, N_out, K, padding=P)(x).shape"
   ]
  },
  {
   "cell_type": "code",
   "execution_count": 5,
   "metadata": {
    "hidden": true
   },
   "outputs": [
    {
     "name": "stdout",
     "output_type": "stream",
     "text": [
      "torch.Size([32, 3, 224, 224])\n",
      "expected w: 223.0\n",
      "expected h: 223.0\n"
     ]
    },
    {
     "data": {
      "text/plain": [
       "torch.Size([32, 64, 223, 223])"
      ]
     },
     "execution_count": 5,
     "metadata": {},
     "output_type": "execute_result"
    }
   ],
   "source": [
    "x = torch.rand((32, 3, 224, 224));print(x.shape)\n",
    "N, C, H, W = x.shape\n",
    "K = 4\n",
    "C_out= 64\n",
    "P = 1   # <-- play with this\n",
    "S = 1\n",
    "print(f\"expected w: {(W -K  + 2*P)/S +1}\")\n",
    "print(f\"expected h: {(H -K  + 2*P)/S +1}\")\n",
    "torch.nn.Conv2d(C, N_out, K, padding=P, stride=S)(x).shape"
   ]
  },
  {
   "cell_type": "markdown",
   "metadata": {
    "hidden": true
   },
   "source": [
    "This way we can compute the entire output shape. It will be, rank-by-rank:\n",
    "1. the input batch size\n",
    "2. the declared output channels (in the function call)\n",
    "3. Calculated $H_{out}$ by formula\n",
    "4. Calculated $W_{out}$ by formula"
   ]
  },
  {
   "cell_type": "code",
   "execution_count": 6,
   "metadata": {
    "hidden": true
   },
   "outputs": [
    {
     "name": "stdout",
     "output_type": "stream",
     "text": [
      "torch.Size([32, 3, 224, 224])\n",
      "expected w: 223.0\n",
      "expected h: 223.0\n",
      "expected output: [32, 64, 223.0, 223.0]\n"
     ]
    },
    {
     "data": {
      "text/plain": [
       "torch.Size([32, 64, 223, 223])"
      ]
     },
     "execution_count": 6,
     "metadata": {},
     "output_type": "execute_result"
    }
   ],
   "source": [
    "x = torch.rand((32, 3, 224, 224));print(x.shape)\n",
    "N, C, H, W = x.shape\n",
    "K = 4\n",
    "C_out= 64\n",
    "P = 1   # <-- play with this\n",
    "S = 1\n",
    "W_out = (W -K  + 2*P)/S +1\n",
    "H_out = (H -K  + 2*P)/S +1\n",
    "print(f\"expected w: {W_out}\")\n",
    "print(f\"expected h: {H_out}\")\n",
    "print(f\"expected output: {[N, C_out, H_out, W_out]}\")\n",
    "torch.nn.Conv2d(C, N_out, K, padding=P, stride=S)(x).shape"
   ]
  },
  {
   "cell_type": "markdown",
   "metadata": {
    "hidden": true
   },
   "source": [
    "We can even use the helpers functions"
   ]
  },
  {
   "cell_type": "code",
   "execution_count": 14,
   "metadata": {
    "hidden": true
   },
   "outputs": [
    {
     "name": "stdout",
     "output_type": "stream",
     "text": [
      "torch.Size([32, 3, 224, 224])\n",
      "expected output: [32, 64, 223, 223]\n"
     ]
    },
    {
     "data": {
      "text/plain": [
       "torch.Size([32, 64, 223, 223])"
      ]
     },
     "execution_count": 14,
     "metadata": {},
     "output_type": "execute_result"
    }
   ],
   "source": [
    "x = torch.rand((32, 3, 224, 224));print(x.shape)\n",
    "N, C, H, W = x.shape\n",
    "K = 4\n",
    "C_out= 64\n",
    "P = 1   # <-- play with this\n",
    "S = 1\n",
    "print(f\"expected output: {out_Conv2d(x, C, N_out, K, P, S)}\")\n",
    "torch.nn.Conv2d(C, N_out, K, padding=P, stride=S)(x).shape"
   ]
  },
  {
   "cell_type": "markdown",
   "metadata": {
    "heading_collapsed": true
   },
   "source": [
    "#### MaxPool2d\n",
    "[```torch.nn.MaxPool2d(kernel_size, stride=None, padding=0, dilation=1, return_indices=False, ceil_mode=False)```](https://pytorch.org/docs/master/generated/torch.nn.MaxPool2d.html#maxpool2d)"
   ]
  },
  {
   "cell_type": "markdown",
   "metadata": {
    "hidden": true
   },
   "source": [
    "Basically it follows the same rule of Conv2d."
   ]
  },
  {
   "cell_type": "code",
   "execution_count": 125,
   "metadata": {
    "hidden": true
   },
   "outputs": [
    {
     "name": "stdout",
     "output_type": "stream",
     "text": [
      "torch.Size([32, 3, 224, 224])\n",
      "expected w: 223.0\n"
     ]
    },
    {
     "data": {
      "text/plain": [
       "torch.Size([32, 3, 223, 223])"
      ]
     },
     "execution_count": 125,
     "metadata": {},
     "output_type": "execute_result"
    }
   ],
   "source": [
    "x = torch.rand((32, 3, 224, 224));print(x.shape)\n",
    "N, C, H, W = x.shape\n",
    "K = 6\n",
    "P = 2   # <-- play with this\n",
    "S = 1\n",
    "print(f\"expected w: {(W - K  + 2*P)/S +1}\")\n",
    "torch.nn.MaxPool2d(K, stride=S, padding=P)(x).shape"
   ]
  },
  {
   "cell_type": "code",
   "execution_count": 19,
   "metadata": {
    "hidden": true
   },
   "outputs": [
    {
     "name": "stdout",
     "output_type": "stream",
     "text": [
      "x: torch.Size([32, 3, 224, 224])\n",
      "Maxpool2D expected: [32, 3, 113, 113]\n",
      "Maxpool2D: torch.Size([32, 3, 113, 113])\n",
      "Conv2D expected: \t[32, 64, 113, 113]\n",
      "Conv2D expected: torch.Size([32, 64, 113, 113])\n"
     ]
    }
   ],
   "source": [
    "### Maxpooling ###\n",
    "x = torch.rand((32, 3, 224, 224));print(f\"x: {x.shape}\")\n",
    "N, C, H, W = x.shape\n",
    "K = 2\n",
    "N_out= 64\n",
    "P = 1   # <-- play with this\n",
    "S = 2\n",
    "\n",
    "print(f\"Maxpool2D expected: {out_MaxPool2d(x, C, K, P ,S)}\")\n",
    "print( f\"Maxpool2D: {torch.nn.MaxPool2d(K, stride=S, padding=P)(x).shape}\" )\n",
    "print(f\"Conv2D expected: \\t{out_Conv2d(x, C, N_out, K, P, S)}\")\n",
    "print(f\"Conv2D expected: {torch.nn.Conv2d(C, N_out, K, padding=P, stride=S)(x).shape}\")\n"
   ]
  },
  {
   "cell_type": "markdown",
   "metadata": {},
   "source": [
    "#### Some playing"
   ]
  },
  {
   "cell_type": "code",
   "execution_count": 198,
   "metadata": {},
   "outputs": [
    {
     "data": {
      "image/png": "[encoded data removed]",
      "text/plain": [
       "<PIL.Image.Image image mode=RGB size=224x224 at 0x13426FB38>"
      ]
     },
     "execution_count": 198,
     "metadata": {},
     "output_type": "execute_result"
    }
   ],
   "source": [
    "from torchvision.transforms import ToPILImage\n",
    "from PIL import Image as pim\n",
    "im = lambda t: ToPILImage()(t).convert(\"RGB\")\n",
    "imr  = lambda t: im(t).resize((224, 224)) # with auto-resize\n",
    "item = lambda n: train[n][0]\n",
    "imr(item(40))"
   ]
  },
  {
   "cell_type": "code",
   "execution_count": 172,
   "metadata": {},
   "outputs": [
    {
     "data": {
      "text/plain": [
       "torch.Size([1, 3, 32, 32])"
      ]
     },
     "execution_count": 172,
     "metadata": {},
     "output_type": "execute_result"
    }
   ],
   "source": [
    "a = train[40][0].unsqueeze(0)\n",
    "a.shape"
   ]
  },
  {
   "cell_type": "code",
   "execution_count": 194,
   "metadata": {},
   "outputs": [
    {
     "name": "stdout",
     "output_type": "stream",
     "text": [
      "expected w: 32.0\n"
     ]
    },
    {
     "data": {
      "text/plain": [
       "torch.Size([1, 4, 32, 32])"
      ]
     },
     "execution_count": 194,
     "metadata": {},
     "output_type": "execute_result"
    }
   ],
   "source": [
    "N, C, H, W = a.shape\n",
    "K = 3 # kernel_size\n",
    "N_out = 4\n",
    "P = 1\n",
    "S = 1\n",
    "print(f\"expected w: {(W -K  + 2*P)/S +1}\")\n",
    "aconv = torch.nn.Conv2d(C, N_out, K, padding=P)(a)\n",
    "aconv.shape"
   ]
  },
  {
   "cell_type": "code",
   "execution_count": 200,
   "metadata": {},
   "outputs": [
    {
     "data": {
      "image/png": "[encoded data removed]",
      "text/plain": [
       "<PIL.Image.Image image mode=RGB size=224x224 at 0x1343B0E80>"
      ]
     },
     "execution_count": 200,
     "metadata": {},
     "output_type": "execute_result"
    }
   ],
   "source": [
    "imr(aconv.squeeze(0))"
   ]
  },
  {
   "cell_type": "markdown",
   "metadata": {},
   "source": [
    "### Sizing the network"
   ]
  },
  {
   "cell_type": "markdown",
   "metadata": {},
   "source": [
    "Now that we have a picture on how to calculate dimensions during the data flow, we can setup our sketch of the network, playing with such dimensions, in order to make them work.  \n",
    "Writing a proof we are free to put contrains, such like entering channels in a Conv2D layer and see how the tensors dimensions change along the layers."
   ]
  },
  {
   "cell_type": "code",
   "execution_count": 307,
   "metadata": {},
   "outputs": [
    {
     "name": "stdout",
     "output_type": "stream",
     "text": [
      "x: torch.Size([32, 3, 224, 224])\n",
      "x2: torch.Size([32, 16, 112, 112])\n",
      "x3: torch.Size([32, 32, 56, 56])\n",
      "x4: torch.Size([32, 64, 28, 28])\n",
      "x5: torch.Size([57344, 28])\n",
      "x6: torch.Size([57344, 500])\n",
      "x7: torch.Size([57344, 130])\n",
      "here a FC will convert everything to one stripe\n",
      "x8: torch.Size([7454720])\n",
      "x9: torch.Size([132])\n"
     ]
    }
   ],
   "source": [
    "#### Net ####\n",
    "pool = torch.nn.MaxPool2d(2, 2)\n",
    "\n",
    "print(f\"x: {x.shape}\") \n",
    "sz1 = pool(torch.nn.Conv2d(x.shape[1], 16, 3, padding=1, stride=1)(x)).shape\n",
    "x2  = torch.rand(sz1); print(f\"x2: {x2.shape}\")\n",
    "sz2 = pool(torch.nn.Conv2d(x2.shape[1], 32, 3, padding=1, stride=1)(x2)).shape\n",
    "x3  = torch.rand(sz2); print(f\"x3: {x3.shape}\")\n",
    "sz3 = pool(torch.nn.Conv2d(x3.shape[1], 64, 3, padding=1, stride=1)(x3)).shape\n",
    "x4  = torch.rand(sz3); print(f\"x4: {x4.shape}\")\n",
    "x5  = x4.view(-1, 28); print(f\"x5: {x5.shape}\")\n",
    "sz4 = torch.nn.Linear(x5.shape[1], 500)(x5).shape\n",
    "x6  = torch.rand(sz4); print(f\"x6: {x6.shape}\")\n",
    "sz5 = torch.nn.Linear(x6.shape[1], 130)(x6).shape\n",
    "x7  = torch.rand(sz5); print(f\"x7: {x7.shape}\")\n",
    "print('here a FC will convert everything to one stripe')\n",
    "x8  = x7.view(-1); print(f\"x8: {x8.shape}\")\n",
    "sz6 = torch.nn.Linear(x8.shape[0], 132)(x8).shape\n",
    "x9  = torch.rand(sz6); print(f\"x9: {x9.shape}\")\n",
    "\n"
   ]
  },
  {
   "cell_type": "markdown",
   "metadata": {},
   "source": [
    "#### Alternative approach"
   ]
  },
  {
   "cell_type": "markdown",
   "metadata": {},
   "source": [
    "Lazy bears (like me sometimes) can find a simpler try & error approach more easy to adopt, directly on the network. Let's see how."
   ]
  },
  {
   "cell_type": "markdown",
   "metadata": {},
   "source": [
    "##### First define your model"
   ]
  },
  {
   "cell_type": "code",
   "execution_count": 39,
   "metadata": {},
   "outputs": [],
   "source": [
    "import torch.nn as nn\n",
    "import torch.nn.functional as F\n",
    "\n",
    "bs = 32 # batch size\n",
    "nclasses = 20\n",
    "\n",
    "class Net(nn.Module):\n",
    "    def __init__(self):\n",
    "        super(Net, self).__init__()\n",
    "        self.conv1 = nn.Conv2d(3, 4, 3, padding=1)\n",
    "        self.conv2 = nn.Conv2d(4, 8, 3, padding=1)\n",
    "        self.pool = nn.MaxPool2d(2, 2)\n",
    "        self.fc1 = nn.Linear(8*56*56, 500)\n",
    "        self.fc2 = nn.Linear(500, nclasses)\n",
    "        self.dropout = nn.Dropout(0.25)\n",
    "        self.v = True # verbose: print\n",
    "\n",
    "    def forward(self, x):\n",
    "        if self.v: print(f\"1. x: {x.shape}\")\n",
    "        x = self.pool(F.relu(self.conv1(x)))\n",
    "        if self.v: print(f\"2. x: {x.shape}\")\n",
    "        x = self.pool(F.relu(self.conv2(x)))\n",
    "        if self.v: print(f\"3. x: {x.shape}\")\n",
    "        x = self.dropout(x)\n",
    "        x = x.view(bs, -1)  # <- the previous trick\n",
    "        if self.v: print(f\"4. view: x: {x.shape}\")\n",
    "        x = self.dropout(x)\n",
    "        x = F.relu(self.fc1(x))\n",
    "        if self.v: print(f\"5. view: x: {x.shape}\")\n",
    "        x = self.dropout(x)\n",
    "        if self.v: print(f\"6. x: {x.shape}\")\n",
    "        x = self.fc2(x)\n",
    "        if self.v: print(f\"7. x: {x.shape}\")\n",
    "        return x"
   ]
  },
  {
   "cell_type": "markdown",
   "metadata": {},
   "source": [
    "###### Try it!"
   ]
  },
  {
   "cell_type": "markdown",
   "metadata": {},
   "source": [
    "During your trials it's easy to run into some errors like the one below.  \n",
    "```python\n",
    "RuntimeError: size mismatch, m1: [32 x 25088], m2: [1024 x 500] at ..\n",
    "```\n",
    "Keep calm and just know that the first (m1) is referred to your travelling tensor, while m2 is referred to the dimensions you declared in your model. Just find your wrong dimensions in the model and edit them in order to match the expected ones as we saw in the previous sections."
   ]
  },
  {
   "cell_type": "code",
   "execution_count": 41,
   "metadata": {},
   "outputs": [
    {
     "name": "stdout",
     "output_type": "stream",
     "text": [
      "1. x: torch.Size([32, 3, 224, 224])\n",
      "2. x: torch.Size([32, 4, 112, 112])\n",
      "3. x: torch.Size([32, 8, 56, 56])\n",
      "4. view: x: torch.Size([32, 25088])\n",
      "5. view: x: torch.Size([32, 500])\n",
      "6. x: torch.Size([32, 500])\n",
      "7. x: torch.Size([32, 20])\n"
     ]
    },
    {
     "data": {
      "text/plain": [
       "torch.Size([32, 20])"
      ]
     },
     "execution_count": 41,
     "metadata": {},
     "output_type": "execute_result"
    }
   ],
   "source": [
    "## Let's check whether the model will let us do all the data flow ##\n",
    "x = torch.rand((32, 3, 224, 224)) # batch of 32 RGB images 224x224\n",
    "model = Net()\n",
    "model(x).shape"
   ]
  },
  {
   "cell_type": "markdown",
   "metadata": {},
   "source": [
    "### Discussion"
   ]
  },
  {
   "cell_type": "markdown",
   "metadata": {},
   "source": [
    "A couple of steps here deserve a little discussion"
   ]
  },
  {
   "cell_type": "markdown",
   "metadata": {},
   "source": [
    "Here **4** is the linking dimension, from conv1 to conv2\n",
    "```python\n",
    "self.conv1 = nn.Conv2d(3, 4, 3, padding=1)\n",
    "self.conv2 = nn.Conv2d(4, 8, 3, padding=1)\n",
    "```  \n"
   ]
  },
  {
   "cell_type": "markdown",
   "metadata": {},
   "source": [
    "Here **8** is the linking dimension, from conv2 to fc1  \n",
    "```python\n",
    "self.conv2 = nn.Conv2d(4, 8, 3, padding=1)\n",
    "self.pool = nn.MaxPool2d(2, 2)\n",
    "self.fc1 = nn.Linear(8*56*56, 500)\n",
    "```  \n",
    "You can notice the *Linear* input at *fc1*. It is because **8**, our linking dimension from previous layers, and 56x56, being the output H and W from *conv2*, as you can see in the model output steps."
   ]
  },
  {
   "cell_type": "code",
   "execution_count": null,
   "metadata": {},
   "outputs": [],
   "source": []
  }
 ],
 "metadata": {
  "kernelspec": {
   "display_name": "Python 3",
   "language": "python",
   "name": "python3"
  },
  "language_info": {
   "codemirror_mode": {
    "name": "ipython",
    "version": 3
   },
   "file_extension": ".py",
   "mimetype": "text/x-python",
   "name": "python",
   "nbconvert_exporter": "python",
   "pygments_lexer": "ipython3",
   "version": "3.7.3"
  }
 },
 "nbformat": 4,
 "nbformat_minor": 4
}
